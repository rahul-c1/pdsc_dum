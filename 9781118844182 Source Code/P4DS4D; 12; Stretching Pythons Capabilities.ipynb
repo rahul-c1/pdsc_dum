{
 "metadata": {
  "name": "",
  "signature": "sha256:930dd5000094c2a7f762f615f6699534eadea99226a675ba3fd91bdba6098922"
 },
 "nbformat": 3,
 "nbformat_minor": 0,
 "worksheets": [
  {
   "cells": [
    {
     "cell_type": "heading",
     "level": 1,
     "metadata": {},
     "source": [
      "Defining applications for data science"
     ]
    },
    {
     "cell_type": "markdown",
     "metadata": {},
     "source": [
      "http://scikit-learn.org/stable/developers/<BR>\n",
      "http://scikit-learn.org/stable/faq.html<BR>"
     ]
    },
    {
     "cell_type": "code",
     "collapsed": false,
     "input": [
      "from sklearn.datasets import load_boston\n",
      "boston = load_boston()\n",
      "X, y = boston.data,boston.target\n",
      "print X.shape, y.shape"
     ],
     "language": "python",
     "metadata": {},
     "outputs": [
      {
       "output_type": "stream",
       "stream": "stdout",
       "text": [
        "(506L, 13L) (506L,)\n"
       ]
      }
     ],
     "prompt_number": 1
    },
    {
     "cell_type": "code",
     "collapsed": false,
     "input": [
      "from sklearn.linear_model import LinearRegression\n",
      "hypothesis = LinearRegression(normalize=True)\n",
      "hypothesis.fit(X,y)"
     ],
     "language": "python",
     "metadata": {},
     "outputs": [
      {
       "metadata": {},
       "output_type": "pyout",
       "prompt_number": 2,
       "text": [
        "LinearRegression(copy_X=True, fit_intercept=True, normalize=True)"
       ]
      }
     ],
     "prompt_number": 2
    },
    {
     "cell_type": "code",
     "collapsed": false,
     "input": [
      "print hypothesis.coef_"
     ],
     "language": "python",
     "metadata": {},
     "outputs": [
      {
       "output_type": "stream",
       "stream": "stdout",
       "text": [
        "[ -1.07170557e-01   4.63952195e-02   2.08602395e-02   2.68856140e+00\n",
        "  -1.77957587e+01   3.80475246e+00   7.51061703e-04  -1.47575880e+00\n",
        "   3.05655038e-01  -1.23293463e-02  -9.53463555e-01   9.39251272e-03\n",
        "  -5.25466633e-01]\n"
       ]
      }
     ],
     "prompt_number": 3
    },
    {
     "cell_type": "code",
     "collapsed": false,
     "input": [
      "new_observation = np.array([1,0,1,0,0.5,7,59,6,3,200,20,350,4],dtype=float)\n",
      "print hypothesis.predict(new_observation)"
     ],
     "language": "python",
     "metadata": {},
     "outputs": [
      {
       "output_type": "stream",
       "stream": "stdout",
       "text": [
        "25.8972783977\n"
       ]
      }
     ],
     "prompt_number": 4
    },
    {
     "cell_type": "code",
     "collapsed": false,
     "input": [
      "hypothesis.score(X,y)"
     ],
     "language": "python",
     "metadata": {},
     "outputs": [
      {
       "metadata": {},
       "output_type": "pyout",
       "prompt_number": 5,
       "text": [
        "0.74060774286494291"
       ]
      }
     ],
     "prompt_number": 5
    },
    {
     "cell_type": "code",
     "collapsed": false,
     "input": [
      "#help(LinearRegression)\n",
      "from sklearn.preprocessing import MinMaxScaler\n",
      "scaler = MinMaxScaler(feature_range=(0, 1))\n",
      "scaler.fit(X)\n",
      "print scaler.transform(new_observation)"
     ],
     "language": "python",
     "metadata": {},
     "outputs": [
      {
       "output_type": "stream",
       "stream": "stdout",
       "text": [
        "[ 0.01116872  0.          0.01979472  0.          0.23662551  0.65893849\n",
        "  0.57775489  0.44288845  0.08695652  0.02480916  0.78723404  0.88173887\n",
        "  0.06263797]\n"
       ]
      }
     ],
     "prompt_number": 6
    },
    {
     "cell_type": "heading",
     "level": 1,
     "metadata": {},
     "source": [
      "Performing the Hashing Trick"
     ]
    },
    {
     "cell_type": "heading",
     "level": 2,
     "metadata": {},
     "source": [
      "Using hash functions"
     ]
    },
    {
     "cell_type": "code",
     "collapsed": false,
     "input": [
      "print hash('Python')\n",
      "print abs(hash('Python')) % 1000"
     ],
     "language": "python",
     "metadata": {},
     "outputs": [
      {
       "output_type": "stream",
       "stream": "stdout",
       "text": [
        "-539294296\n",
        "296\n"
       ]
      }
     ],
     "prompt_number": 7
    },
    {
     "cell_type": "heading",
     "level": 2,
     "metadata": {},
     "source": [
      "Demonstrating the hashing trick"
     ]
    },
    {
     "cell_type": "code",
     "collapsed": false,
     "input": [
      "string_1 = 'Python for data science'\n",
      "string_2 = 'Python for machine learning'\n",
      "\n",
      "def hashing_trick(input_string, vector_size=20):\n",
      "    feature_vector = [0] * vector_size\n",
      "    for word in input_string.split(' '):\n",
      "        index = abs(hash(word)) % vector_size\n",
      "        feature_vector[index] = 1\n",
      "    return feature_vector\n",
      "\n",
      "print hashing_trick(input_string='Python for data science', vector_size=20)\n",
      "print hashing_trick(input_string='Python for machine learning', vector_size=20)"
     ],
     "language": "python",
     "metadata": {},
     "outputs": [
      {
       "output_type": "stream",
       "stream": "stdout",
       "text": [
        "[1, 0, 0, 0, 0, 1, 0, 0, 0, 0, 0, 0, 0, 0, 0, 0, 1, 0, 1, 0]\n",
        "[0, 0, 0, 0, 0, 0, 0, 0, 0, 0, 1, 0, 1, 0, 0, 0, 1, 0, 1, 0]\n"
       ]
      }
     ],
     "prompt_number": 8
    },
    {
     "cell_type": "code",
     "collapsed": false,
     "input": [
      "from scipy.sparse import csc_matrix\n",
      "print csc_matrix([1, 0, 0, 0, 0, 1, 0, 0, 0, 0, 0, 0, 0, 0, 0, 0, 1, 0, 1, 0])"
     ],
     "language": "python",
     "metadata": {},
     "outputs": [
      {
       "output_type": "stream",
       "stream": "stdout",
       "text": [
        "  (0, 0)\t1\n",
        "  (0, 5)\t1\n",
        "  (0, 16)\t1\n",
        "  (0, 18)\t1\n"
       ]
      }
     ],
     "prompt_number": 9
    },
    {
     "cell_type": "code",
     "collapsed": false,
     "input": [
      "# http://scikit-learn.org/stable/modules/feature_extraction.html\n",
      "# http://scikit-learn.org/stable/modules/generated/sklearn.feature_extraction.text.HashingVectorizer.html\n",
      "from sklearn.feature_extraction.text import HashingVectorizer\n",
      "sklearn_hashing_trick = HashingVectorizer(n_features=20, binary=True, norm=None)\n",
      "hashed_text = sklearn_hashing_trick.transform(['Python for data science','Python for machine learning'])\n",
      "hashed_text"
     ],
     "language": "python",
     "metadata": {},
     "outputs": [
      {
       "metadata": {},
       "output_type": "pyout",
       "prompt_number": 10,
       "text": [
        "<2x20 sparse matrix of type '<type 'numpy.float64'>'\n",
        "\twith 8 stored elements in Compressed Sparse Row format>"
       ]
      }
     ],
     "prompt_number": 10
    },
    {
     "cell_type": "code",
     "collapsed": false,
     "input": [
      "from sklearn.feature_extraction.text import CountVectorizer\n",
      "one_hot_enconder = CountVectorizer()\n",
      "one_hot_enconded = one_hot_enconder.fit_transform(['Python for data science','Python for machine learning'])"
     ],
     "language": "python",
     "metadata": {},
     "outputs": [],
     "prompt_number": 11
    },
    {
     "cell_type": "code",
     "collapsed": false,
     "input": [
      "print one_hot_enconder.vocabulary_"
     ],
     "language": "python",
     "metadata": {},
     "outputs": [
      {
       "output_type": "stream",
       "stream": "stdout",
       "text": [
        "{u'machine': 3, u'learning': 2, u'for': 1, u'python': 4, u'science': 5, u'data': 0}\n"
       ]
      }
     ],
     "prompt_number": 12
    },
    {
     "cell_type": "code",
     "collapsed": false,
     "input": [
      "sklearn_hashing_trick.transform(['New text has arrived'])"
     ],
     "language": "python",
     "metadata": {},
     "outputs": [
      {
       "metadata": {},
       "output_type": "pyout",
       "prompt_number": 13,
       "text": [
        "<1x20 sparse matrix of type '<type 'numpy.float64'>'\n",
        "\twith 4 stored elements in Compressed Sparse Row format>"
       ]
      }
     ],
     "prompt_number": 13
    },
    {
     "cell_type": "code",
     "collapsed": false,
     "input": [
      "one_hot_enconder.fit_transform(['New text has arrived'])"
     ],
     "language": "python",
     "metadata": {},
     "outputs": [
      {
       "metadata": {},
       "output_type": "pyout",
       "prompt_number": 14,
       "text": [
        "<1x4 sparse matrix of type '<type 'numpy.int64'>'\n",
        "\twith 4 stored elements in Compressed Sparse Row format>"
       ]
      }
     ],
     "prompt_number": 14
    },
    {
     "cell_type": "heading",
     "level": 1,
     "metadata": {},
     "source": [
      "Performance testing"
     ]
    },
    {
     "cell_type": "code",
     "collapsed": false,
     "input": [
      "%timeit l = [k for k in range(10**6)]"
     ],
     "language": "python",
     "metadata": {},
     "outputs": [
      {
       "output_type": "stream",
       "stream": "stdout",
       "text": [
        "10 loops, best of 3: 96.1 ms per loop\n"
       ]
      }
     ],
     "prompt_number": 15
    },
    {
     "cell_type": "code",
     "collapsed": false,
     "input": [
      "%timeit -n 20 -r 5 l = [k for k in range(10**6)]"
     ],
     "language": "python",
     "metadata": {},
     "outputs": [
      {
       "output_type": "stream",
       "stream": "stdout",
       "text": [
        "20 loops, best of 5: 95.7 ms per loop\n"
       ]
      }
     ],
     "prompt_number": 16
    },
    {
     "cell_type": "code",
     "collapsed": false,
     "input": [
      "%%timeit \n",
      "l = list()\n",
      "for k in range(10**6):\n",
      "    l.append(k)"
     ],
     "language": "python",
     "metadata": {},
     "outputs": [
      {
       "output_type": "stream",
       "stream": "stdout",
       "text": [
        "1 loops, best of 3: 163 ms per loop\n"
       ]
      }
     ],
     "prompt_number": 17
    },
    {
     "cell_type": "code",
     "collapsed": false,
     "input": [
      "from sklearn.feature_extraction.text import HashingVectorizer, CountVectorizer\n",
      "sklearn_hashing_trick = HashingVectorizer(n_features=20, binary=True, norm=None) \n",
      "one_hot_enconder = CountVectorizer()\n",
      "texts = ['Python for data science','Python for machine learning']"
     ],
     "language": "python",
     "metadata": {},
     "outputs": [],
     "prompt_number": 18
    },
    {
     "cell_type": "code",
     "collapsed": false,
     "input": [
      "%timeit one_hot_enconded = one_hot_enconder.fit_transform(texts)"
     ],
     "language": "python",
     "metadata": {},
     "outputs": [
      {
       "output_type": "stream",
       "stream": "stdout",
       "text": [
        "1000 loops, best of 3: 1.25 ms per loop\n"
       ]
      }
     ],
     "prompt_number": 19
    },
    {
     "cell_type": "code",
     "collapsed": false,
     "input": [
      "%timeit  hashing = sklearn_hashing_trick.transform(texts)"
     ],
     "language": "python",
     "metadata": {},
     "outputs": [
      {
       "output_type": "stream",
       "stream": "stdout",
       "text": [
        "10000 loops, best of 3: 154 \u00b5s per loop\n"
       ]
      }
     ],
     "prompt_number": 20
    },
    {
     "cell_type": "code",
     "collapsed": false,
     "input": [
      "import timeit\n",
      "cumulative_time = timeit.timeit(\"hashing = sklearn_hashing_trick.transform(texts)\", \n",
      "                                 \"from __main__ import sklearn_hashing_trick, texts\", \n",
      "                                 number=10000)\n",
      "print cumulative_time / 10000.0"
     ],
     "language": "python",
     "metadata": {},
     "outputs": [
      {
       "output_type": "stream",
       "stream": "stdout",
       "text": [
        "0.000155533324034\n"
       ]
      }
     ],
     "prompt_number": 21
    },
    {
     "cell_type": "heading",
     "level": 2,
     "metadata": {},
     "source": [
      "Memory profiler"
     ]
    },
    {
     "cell_type": "code",
     "collapsed": false,
     "input": [
      "# Installation procedures from the command line:\n",
      "# pip install psutil\n",
      "# pip install memory_profiler"
     ],
     "language": "python",
     "metadata": {},
     "outputs": [],
     "prompt_number": 22
    },
    {
     "cell_type": "code",
     "collapsed": false,
     "input": [
      "# Initialization from IPython (to be repeat at every IPython start)\n",
      "%load_ext memory_profiler"
     ],
     "language": "python",
     "metadata": {},
     "outputs": [],
     "prompt_number": 23
    },
    {
     "cell_type": "code",
     "collapsed": false,
     "input": [
      "hashing = sklearn_hashing_trick.transform(texts)\n",
      "%memit dense_hashing = hashing.toarray()"
     ],
     "language": "python",
     "metadata": {},
     "outputs": [
      {
       "output_type": "stream",
       "stream": "stdout",
       "text": [
        "peak memory: 81.66 MiB, increment: 0.11 MiB\n"
       ]
      }
     ],
     "prompt_number": 24
    },
    {
     "cell_type": "code",
     "collapsed": false,
     "input": [
      "%%writefile example_code.py\n",
      "from sklearn.feature_extraction.text import HashingVectorizer, CountVectorizer\n",
      "def comparison_test():\n",
      "    sklearn_hashing_trick = HashingVectorizer(n_features=20, binary=True, norm=None) \n",
      "    one_hot_enconder = CountVectorizer()\n",
      "    texts = ['Python for data science','Python for machine learning']\n",
      "    one_hot_enconded = one_hot_enconder.fit_transform(texts)\n",
      "    hashing = sklearn_hashing_trick.transform(texts)"
     ],
     "language": "python",
     "metadata": {},
     "outputs": [
      {
       "output_type": "stream",
       "stream": "stdout",
       "text": [
        "Overwriting example_code.py\n"
       ]
      }
     ],
     "prompt_number": 25
    },
    {
     "cell_type": "code",
     "collapsed": false,
     "input": [
      "from example_code import comparison_test\n",
      "%mprun -f comparison_test comparison_test()"
     ],
     "language": "python",
     "metadata": {},
     "outputs": [
      {
       "output_type": "stream",
       "stream": "stdout",
       "text": [
        "('',)\n"
       ]
      }
     ],
     "prompt_number": 26
    },
    {
     "cell_type": "heading",
     "level": 1,
     "metadata": {},
     "source": [
      "Demonstrating multiprocessing techniques"
     ]
    },
    {
     "cell_type": "code",
     "collapsed": false,
     "input": [
      "from sklearn.datasets import load_digits\n",
      "digits = load_digits()\n",
      "X, y = digits.data,digits.target\n",
      "from sklearn.svm import SVC\n",
      "from sklearn.cross_validation import cross_val_score"
     ],
     "language": "python",
     "metadata": {},
     "outputs": []
    },
    {
     "cell_type": "code",
     "collapsed": false,
     "input": [
      "%timeit single_core_learning = cross_val_score(SVC(), X, y, cv=20, n_jobs=1)"
     ],
     "language": "python",
     "metadata": {},
     "outputs": []
    },
    {
     "cell_type": "code",
     "collapsed": false,
     "input": [
      "%timeit multi_core_learning = cross_val_score(SVC(), X, y, cv=20, n_jobs=-1)"
     ],
     "language": "python",
     "metadata": {},
     "outputs": []
    }
   ],
   "metadata": {}
  }
 ]
}
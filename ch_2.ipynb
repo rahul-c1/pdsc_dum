{
 "cells": [
  {
   "cell_type": "code",
   "execution_count": 1,
   "metadata": {
    "collapsed": true
   },
   "outputs": [],
   "source": [
    "from sklearn.datasets import load_boston\n",
    "boston=load_boston()\n",
    "items=dir(boston)"
   ]
  },
  {
   "cell_type": "code",
   "execution_count": 3,
   "metadata": {
    "collapsed": false
   },
   "outputs": [
    {
     "name": "stdout",
     "output_type": "stream",
     "text": [
      "['DESCR', '__class__', '__cmp__', '__contains__', '__delattr__', '__delitem__', '__dict__', '__doc__', '__eq__', '__format__', '__ge__', '__getattribute__', '__getitem__', '__gt__', '__hash__', '__init__', '__iter__', '__le__', '__len__', '__lt__', '__module__', '__ne__', '__new__', '__reduce__', '__reduce_ex__', '__repr__', '__setattr__', '__setitem__', '__sizeof__', '__str__', '__subclasshook__', '__weakref__', 'clear', 'copy', 'data', 'feature_names', 'fromkeys', 'get', 'has_key', 'items', 'iteritems', 'iterkeys', 'itervalues', 'keys', 'pop', 'popitem', 'setdefault', 'target', 'update', 'values', 'viewitems', 'viewkeys', 'viewvalues']\n"
     ]
    }
   ],
   "source": [
    "print dir(boston)"
   ]
  },
  {
   "cell_type": "code",
   "execution_count": 2,
   "metadata": {
    "collapsed": false
   },
   "outputs": [
    {
     "name": "stdout",
     "output_type": "stream",
     "text": [
      "fromkeys\n",
      "has_key\n",
      "iterkeys\n",
      "keys\n",
      "viewkeys\n"
     ]
    }
   ],
   "source": [
    "for item in items:\n",
    "    if 'key' in item:\n",
    "        print item"
   ]
  },
  {
   "cell_type": "code",
   "execution_count": 7,
   "metadata": {
    "collapsed": false
   },
   "outputs": [
    {
     "name": "stdout",
     "output_type": "stream",
     "text": [
      "['data', 'feature_names', 'DESCR', 'target']\n"
     ]
    }
   ],
   "source": [
    "print boston.keys()"
   ]
  },
  {
   "cell_type": "code",
   "execution_count": 13,
   "metadata": {
    "collapsed": false
   },
   "outputs": [
    {
     "name": "stdout",
     "output_type": "stream",
     "text": [
      "2015-10-05 10:11:44.353000\n"
     ]
    },
    {
     "data": {
      "text/plain": [
       "datetime.datetime(2015, 10, 5, 10, 11, 44, 353000)"
      ]
     },
     "execution_count": 13,
     "metadata": {},
     "output_type": "execute_result"
    }
   ],
   "source": [
    "import datetime\n",
    "print str(datetime.datetime.now())\n",
    "datetime.datetime.now()"
   ]
  },
  {
   "cell_type": "code",
   "execution_count": 15,
   "metadata": {
    "collapsed": false
   },
   "outputs": [],
   "source": [
    "def DisplayMulti(ArgCount=0,*VarArgs):\n",
    "    print \"You passed \",str(ArgCount)+\" arguments.\",VarArgs"
   ]
  },
  {
   "cell_type": "code",
   "execution_count": 16,
   "metadata": {
    "collapsed": false
   },
   "outputs": [
    {
     "name": "stdout",
     "output_type": "stream",
     "text": [
      "You passed  2 arguments. ('hi', 6)\n"
     ]
    }
   ],
   "source": [
    "DisplayMulti(2,\"hi\",6)"
   ]
  },
  {
   "cell_type": "code",
   "execution_count": 27,
   "metadata": {
    "collapsed": true
   },
   "outputs": [],
   "source": [
    "def DisplayMulti(*VarArgs):\n",
    "    for Arg in VarArgs:\n",
    "        if Arg.upper=='CONT':\n",
    "            continue\n",
    "            print (\"Continue Argument: \", Arg)\n",
    "        elif Arg.upper()=='BREAK':\n",
    "            break\n",
    "            print \"Break Argument: \",Arg\n",
    "        print \"Good Argument\", Arg"
   ]
  },
  {
   "cell_type": "code",
   "execution_count": 28,
   "metadata": {
    "collapsed": false
   },
   "outputs": [
    {
     "name": "stdout",
     "output_type": "stream",
     "text": [
      "Good Argument a\n",
      "Good Argument cont\n",
      "Good Argument b\n"
     ]
    }
   ],
   "source": [
    "DisplayMulti('a','cont','b','break','cont','k')"
   ]
  },
  {
   "cell_type": "code",
   "execution_count": 4,
   "metadata": {
    "collapsed": false
   },
   "outputs": [
    {
     "name": "stdout",
     "output_type": "stream",
     "text": [
      "1\n",
      "2\n",
      "3\n",
      "\t4\n",
      "\t5\n",
      "\t6\n",
      "\t\t7\n",
      "\t\t8\n",
      "\t\t9\n"
     ]
    }
   ],
   "source": [
    "MyTuple=(1,2,3,(4,5,6,(7,8,9)))\n",
    "\n",
    "for Value1 in MyTuple:\n",
    "    if type(Value1)==int:\n",
    "        print Value1\n",
    "    else:\n",
    "        for Value2 in Value1:\n",
    "            if type(Value2)==int:\n",
    "                print \"\\t\",Value2\n",
    "            else:\n",
    "                for Value3 in Value2:\n",
    "                    print \"\\t\\t\",Value3"
   ]
  },
  {
   "cell_type": "code",
   "execution_count": 7,
   "metadata": {
    "collapsed": false
   },
   "outputs": [],
   "source": [
    "#Tuples are immutable\n",
    "\n",
    "My_New_Tuple=MyTuple.__add__((10,11,12,(13,14,15)))"
   ]
  },
  {
   "cell_type": "code",
   "execution_count": 10,
   "metadata": {
    "collapsed": false
   },
   "outputs": [
    {
     "name": "stdout",
     "output_type": "stream",
     "text": [
      "1\n",
      "2\n",
      "3\n",
      "\t4\n",
      "\t5\n",
      "\t6\n",
      "\t\t7\n",
      "\t\t8\n",
      "\t\t9\n",
      "10\n",
      "11\n",
      "12\n",
      "\t13\n",
      "\t14\n",
      "\t15\n"
     ]
    }
   ],
   "source": [
    "\n",
    "for Value1 in My_New_Tuple:\n",
    "    if type(Value1)==int:\n",
    "        print Value1\n",
    "    else:\n",
    "        for Value2 in Value1:\n",
    "            if type(Value2)==int:\n",
    "                print \"\\t\",Value2\n",
    "            else:\n",
    "                for Value3 in Value2:\n",
    "                    print \"\\t\\t\",Value3"
   ]
  },
  {
   "cell_type": "code",
   "execution_count": null,
   "metadata": {
    "collapsed": true
   },
   "outputs": [],
   "source": [
    "M"
   ]
  }
 ],
 "metadata": {
  "kernelspec": {
   "display_name": "Python 2",
   "language": "python",
   "name": "python2"
  },
  "language_info": {
   "codemirror_mode": {
    "name": "ipython",
    "version": 2
   },
   "file_extension": ".py",
   "mimetype": "text/x-python",
   "name": "python",
   "nbconvert_exporter": "python",
   "pygments_lexer": "ipython2",
   "version": "2.7.10"
  }
 },
 "nbformat": 4,
 "nbformat_minor": 0
}
